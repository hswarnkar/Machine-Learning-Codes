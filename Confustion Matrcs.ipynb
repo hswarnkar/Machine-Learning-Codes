{
 "cells": [
  {
   "cell_type": "code",
   "execution_count": 10,
   "id": "9408f1ed",
   "metadata": {},
   "outputs": [],
   "source": [
    "import pandas as pd \n",
    "data={'y_Actual':[1,0,0,1,0,1,0,0,1,0,1,0],\n",
    "     'y_Predicted':[1,1,0,1,0,1,1,0,1,0,0,0]}\n",
    "df=pd.DataFrame(data,columns=['y_Actual','y_Predicted'])"
   ]
  },
  {
   "cell_type": "code",
   "execution_count": 11,
   "id": "d3b7b568",
   "metadata": {},
   "outputs": [
    {
     "name": "stdout",
     "output_type": "stream",
     "text": [
      "    y_Actual  y_Predicted\n",
      "0          1            1\n",
      "1          0            1\n",
      "2          0            0\n",
      "3          1            1\n",
      "4          0            0\n",
      "5          1            1\n",
      "6          0            1\n",
      "7          0            0\n",
      "8          1            1\n",
      "9          0            0\n",
      "10         1            0\n",
      "11         0            0\n"
     ]
    }
   ],
   "source": [
    "print(df)"
   ]
  },
  {
   "cell_type": "code",
   "execution_count": 12,
   "id": "5cd71532",
   "metadata": {},
   "outputs": [],
   "source": [
    "# Creating the confusion matrix\n",
    "confustion_matrix=pd.crosstab(df['y_Actual'],df['y_Predicted'], rownames=['Actual_Value'], colnames=['Predicted_Value'])"
   ]
  },
  {
   "cell_type": "code",
   "execution_count": 13,
   "id": "4675593f",
   "metadata": {},
   "outputs": [
    {
     "name": "stdout",
     "output_type": "stream",
     "text": [
      "Predicted_Value  0  1\n",
      "Actual_Value         \n",
      "0                5  2\n",
      "1                1  4\n"
     ]
    }
   ],
   "source": [
    "print(confustion_matrix)"
   ]
  },
  {
   "cell_type": "code",
   "execution_count": 14,
   "id": "448c5c8a",
   "metadata": {},
   "outputs": [],
   "source": [
    "#Display the confusikon matrix using Seaborn\n",
    "import seaborn as sn\n",
    "import matplotlib.pyplot as plt"
   ]
  },
  {
   "cell_type": "code",
   "execution_count": 15,
   "id": "e18f8555",
   "metadata": {},
   "outputs": [
    {
     "data": {
      "text/plain": [
       "<AxesSubplot:xlabel='Predicted_Value', ylabel='Actual_Value'>"
      ]
     },
     "execution_count": 15,
     "metadata": {},
     "output_type": "execute_result"
    },
    {
     "data": {
      "image/png": "[encoded data removed]",
      "text/plain": [
       "<Figure size 432x288 with 2 Axes>"
      ]
     },
     "metadata": {
      "needs_background": "light"
     },
     "output_type": "display_data"
    }
   ],
   "source": [
    "sn.heatmap(confustion_matrix, annot=True)"
   ]
  },
  {
   "cell_type": "code",
   "execution_count": 16,
   "id": "ae668f8c",
   "metadata": {},
   "outputs": [],
   "source": [
    "confustion_matrix=pd.crosstab(df['y_Actual'],df['y_Predicted'], rownames=['Actual_Value'], colnames=['Predicted_Value'],margins=True)"
   ]
  },
  {
   "cell_type": "code",
   "execution_count": 17,
   "id": "d688cb7e",
   "metadata": {},
   "outputs": [
    {
     "data": {
      "text/plain": [
       "<AxesSubplot:xlabel='Predicted_Value', ylabel='Actual_Value'>"
      ]
     },
     "execution_count": 17,
     "metadata": {},
     "output_type": "execute_result"
    },
    {
     "data": {
      "image/png": "[encoded data removed]",
      "text/plain": [
       "<Figure size 432x288 with 2 Axes>"
      ]
     },
     "metadata": {
      "needs_background": "light"
     },
     "output_type": "display_data"
    }
   ],
   "source": [
    "sn.heatmap(confustion_matrix, annot=True)"
   ]
  },
  {
   "cell_type": "code",
   "execution_count": 18,
   "id": "984c6d53",
   "metadata": {},
   "outputs": [],
   "source": [
    "accuracy=(4+5)/(4+5+2+1)"
   ]
  },
  {
   "cell_type": "code",
   "execution_count": 19,
   "id": "91444c7f",
   "metadata": {},
   "outputs": [
    {
     "name": "stdout",
     "output_type": "stream",
     "text": [
      "0.75\n"
     ]
    }
   ],
   "source": [
    "print(accuracy)"
   ]
  },
  {
   "cell_type": "code",
   "execution_count": 20,
   "id": "3ce982b6",
   "metadata": {},
   "outputs": [
    {
     "name": "stdout",
     "output_type": "stream",
     "text": [
      "0.6666666666666666\n"
     ]
    }
   ],
   "source": [
    "precision=4/(4+2)\n",
    "print(precision)"
   ]
  },
  {
   "cell_type": "code",
   "execution_count": 21,
   "id": "92938359",
   "metadata": {},
   "outputs": [],
   "source": [
    "from sklearn.metrics import confusion_matrix, classification_report"
   ]
  },
  {
   "cell_type": "code",
   "execution_count": 24,
   "id": "36343f7c",
   "metadata": {},
   "outputs": [
    {
     "name": "stdout",
     "output_type": "stream",
     "text": [
      "              precision    recall  f1-score   support\n",
      "\n",
      "    y_Actual       0.00      0.00      0.00       1.0\n",
      " y_Predicted       0.00      0.00      0.00       0.0\n",
      "\n",
      "    accuracy                           0.00       1.0\n",
      "   macro avg       0.00      0.00      0.00       1.0\n",
      "weighted avg       0.00      0.00      0.00       1.0\n",
      "\n"
     ]
    },
    {
     "name": "stderr",
     "output_type": "stream",
     "text": [
      "c:\\users\\hod cse\\appdata\\local\\programs\\python\\python39\\lib\\site-packages\\sklearn\\metrics\\_classification.py:1248: UndefinedMetricWarning: Precision and F-score are ill-defined and being set to 0.0 in labels with no predicted samples. Use `zero_division` parameter to control this behavior.\n",
      "  _warn_prf(average, modifier, msg_start, len(result))\n",
      "c:\\users\\hod cse\\appdata\\local\\programs\\python\\python39\\lib\\site-packages\\sklearn\\metrics\\_classification.py:1248: UndefinedMetricWarning: Recall and F-score are ill-defined and being set to 0.0 in labels with no true samples. Use `zero_division` parameter to control this behavior.\n",
      "  _warn_prf(average, modifier, msg_start, len(result))\n",
      "c:\\users\\hod cse\\appdata\\local\\programs\\python\\python39\\lib\\site-packages\\sklearn\\metrics\\_classification.py:1248: UndefinedMetricWarning: Precision and F-score are ill-defined and being set to 0.0 in labels with no predicted samples. Use `zero_division` parameter to control this behavior.\n",
      "  _warn_prf(average, modifier, msg_start, len(result))\n",
      "c:\\users\\hod cse\\appdata\\local\\programs\\python\\python39\\lib\\site-packages\\sklearn\\metrics\\_classification.py:1248: UndefinedMetricWarning: Recall and F-score are ill-defined and being set to 0.0 in labels with no true samples. Use `zero_division` parameter to control this behavior.\n",
      "  _warn_prf(average, modifier, msg_start, len(result))\n",
      "c:\\users\\hod cse\\appdata\\local\\programs\\python\\python39\\lib\\site-packages\\sklearn\\metrics\\_classification.py:1248: UndefinedMetricWarning: Precision and F-score are ill-defined and being set to 0.0 in labels with no predicted samples. Use `zero_division` parameter to control this behavior.\n",
      "  _warn_prf(average, modifier, msg_start, len(result))\n",
      "c:\\users\\hod cse\\appdata\\local\\programs\\python\\python39\\lib\\site-packages\\sklearn\\metrics\\_classification.py:1248: UndefinedMetricWarning: Recall and F-score are ill-defined and being set to 0.0 in labels with no true samples. Use `zero_division` parameter to control this behavior.\n",
      "  _warn_prf(average, modifier, msg_start, len(result))\n"
     ]
    }
   ],
   "source": [
    "print(classification_report(['y_Actual'], ['y_Predicted']))"
   ]
  },
  {
   "cell_type": "code",
   "execution_count": null,
   "id": "6802473d",
   "metadata": {},
   "outputs": [],
   "source": []
  }
 ],
 "metadata": {
  "kernelspec": {
   "display_name": "Python 3",
   "language": "python",
   "name": "python3"
  },
  "language_info": {
   "codemirror_mode": {
    "name": "ipython",
    "version": 3
   },
   "file_extension": ".py",
   "mimetype": "text/x-python",
   "name": "python",
   "nbconvert_exporter": "python",
   "pygments_lexer": "ipython3",
   "version": "3.9.4"
  }
 },
 "nbformat": 4,
 "nbformat_minor": 5
}
